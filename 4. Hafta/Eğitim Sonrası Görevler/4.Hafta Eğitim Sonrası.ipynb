{
 "cells": [
  {
   "cell_type": "markdown",
   "metadata": {},
   "source": [
    "# Problem 1\n",
    "`ogrenciler` adında bir sözlük oluşturunuz. Kullanıcıdan döngü yardımıyla 3 öğrenci için veri girmesini isteyerek öğrencilerin sırasıyla okul numarası, isim, soy isim, telefon numarası ve doğum tarihi bilgilerini alınız. Aldığınız öğrenci bilgilerini yine aynı döngü yardımıyla `ogrenciler` adındaki sözlükte saklayınız. Daha sonra öğrenci bilgilerinin bulunduğu sözlük yapısını ekrana bastırınız.\n",
    "\n"
   ]
  },
  {
   "cell_type": "code",
   "execution_count": 1,
   "metadata": {},
   "outputs": [
    {
     "name": "stdout",
     "output_type": "stream",
     "text": [
      "{'122': {'Ad': 'Zeynep', 'Soyad': 'A', 'Telefon Numarası': '333', 'Doğum Yılı': '2002'}, '334': {'Ad': 'Kerem', 'Soyad': 'A', 'Telefon Numarası': '777', 'Doğum Yılı': '2002'}, '445': {'Ad': 'Duru', 'Soyad': 'K', 'Telefon Numarası': '999', 'Doğum Yılı': '2002'}}\n"
     ]
    }
   ],
   "source": [
    "students = {}\n",
    "\n",
    "i = 0\n",
    "\n",
    "while i < 3:\n",
    "    studentNum = input(f\"{i+1}. öğrencinin okul numarasını giriniz: \")\n",
    "    name = input(f\"{i+1}. öğrencinin ismini giriniz: \")\n",
    "    surname = input(f\"{i+1}. öğrencinin soy ismini giriniz: \")\n",
    "    phoneNum = input(f\"{i+1}. öğrencinin telefon numarasını giriniz: \")\n",
    "    birthYear = input(f\"{i+1}. öğrencinin doğum yılını giriniz: \")\n",
    "\n",
    "    students[studentNum] = {\n",
    "        \"Ad\": name,\n",
    "        \"Soyad\": surname,\n",
    "        \"Telefon Numarası\": phoneNum,\n",
    "        \"Doğum Yılı\": birthYear,\n",
    "    }\n",
    "    i += 1\n",
    "\n",
    "print(students)\n",
    "\n"
   ]
  },
  {
   "cell_type": "markdown",
   "metadata": {},
   "source": [
    "# Problem 2\n",
    "\n",
    "### a - Biraz ısınarak başlayalım!\n",
    "\n",
    "```\n",
    "numbers = [5,10,10,15,15,15,20,20,20,20]\n",
    "```\n",
    "\n",
    "Yukarıda `numbers` adında 10 elemanlı bir liste verilmiştir. Bu listenin her elemanını kontrol eden ve tekrar eden elemanları bir kez olacak şekilde başka bir listeye kopyalayan bir program yazınız. Son olarak oluşturduğunuz listeyi ekrana bastırınız.\n",
    "\n",
    "\n",
    "\n",
    "\n",
    "```\n",
    ">Output\n",
    "[5, 10, 15, 20]\n",
    "```\n"
   ]
  },
  {
   "cell_type": "code",
   "execution_count": 2,
   "metadata": {},
   "outputs": [
    {
     "name": "stdout",
     "output_type": "stream",
     "text": [
      "[5, 10, 15, 20]\n"
     ]
    }
   ],
   "source": [
    "numbers = [5, 10, 10, 15, 15, 15, 20, 20, 20, 20]\n",
    "numbers2 = []\n",
    "\n",
    "for i in numbers:\n",
    "    if i not in numbers2:\n",
    "        numbers2.append(i)\n",
    "\n",
    "print(numbers2)"
   ]
  },
  {
   "cell_type": "markdown",
   "metadata": {},
   "source": [
    "### 🌶️ b) Hadi işi biraz daha zorlaştıralım! \n",
    "\n",
    "\n",
    "Şimdiyse senden `numbers` isimli listedeki tekrar eden elemanları `repeatNumbers` adındaki listeye; tekrar etmeyen elemanları `uniqueNumbers`adındaki listeye kopyalayan yazmanı ve listeleri ekrana bastırmanı bekliyoruz\n",
    "\n",
    "```\n",
    ">Output\n",
    "Tekrar Eden Elemanlar: [10, 10, 15, 15, 15, 20, 20, 20, 20]\n",
    "Tekrar Etmeyen Elemanlar: [5]\n",
    "```"
   ]
  },
  {
   "cell_type": "code",
   "execution_count": 3,
   "metadata": {},
   "outputs": [
    {
     "name": "stdout",
     "output_type": "stream",
     "text": [
      "[10, 10, 15, 15, 15, 20, 20, 20, 20]\n",
      "[5]\n"
     ]
    }
   ],
   "source": [
    "numbers = [5, 10, 10, 15, 15, 15, 20, 20, 20, 20]\n",
    "uniqueNumbers = []\n",
    "repeatedNumbers = []\n",
    "\n",
    "\n",
    "\n",
    "for i in numbers:\n",
    "    if numbers.count(i) > 1:\n",
    "        repeatedNumbers.append(i)\n",
    "    else:\n",
    "        uniqueNumbers.append(i)\n",
    "\n",
    "print(repeatedNumbers)\n",
    "print(uniqueNumbers)"
   ]
  },
  {
   "cell_type": "markdown",
   "metadata": {},
   "source": [
    "# Problem 3\n",
    "sn1 = {1,2,3,4,5}\n",
    "\n",
    "sn2 = {4,5,6,7,8}\n",
    "\n",
    " Verilen 2 adet küme için kesişimlerini, farklarını ve birleşimlerini bulunuz. "
   ]
  },
  {
   "cell_type": "code",
   "execution_count": 5,
   "metadata": {},
   "outputs": [
    {
     "name": "stdout",
     "output_type": "stream",
     "text": [
      "set1 kesişim set2: {4, 5}\n",
      "set1 fark set2: {1, 2, 3}\n",
      "set2 fark set1: {8, 6, 7}\n",
      "set1 birleşim set2: {1, 2, 3, 4, 5, 6, 7, 8}\n"
     ]
    }
   ],
   "source": [
    "set1 = {1,2,3,4,5}\n",
    "set2 = {4,5,6,7,8}\n",
    "print(f\"set1 kesişim set2: {set1.intersection(set2)}\")\n",
    "print(f\"set1 fark set2: {set1.difference(set2)}\")\n",
    "print(f\"set2 fark set1: {set2.difference(set1)}\")\n",
    "print(f\"set1 birleşim set2: {set1.union(set2)}\")"
   ]
  },
  {
   "cell_type": "markdown",
   "metadata": {},
   "source": [
    "# Problem 4\n",
    "\n",
    "Buradaki işlemlerimizin tamamı stringler içindir. Aşağıda verilecek olan metodlar için kendinizin örnek yaratması gerekmektedir. \n",
    "\n",
    "Örneğin `upper` için `string` değişkeni oluştururken` k = \"BAC\"` şeklinde oluşturmayınız. Bunun yerine k değişkenini `k = \"bac`\" şeklinde oluşturmanız `upper` metodundaki değişimi görebilmeniz için daha iyi olacaktır.\n",
    "\n",
    "Bütün metodlardaki değişimin gözle görülür şekilde değişimi beklenmektedir.\n",
    "\n",
    "\n",
    "1- capitalize(), lower(), upper(), swapcase(), title(), replace()\n",
    "\n",
    "2- endswith(), startswith(), find(), index(), count()\n",
    "\n",
    "3- split(), strip(), join(), islower(), isalpha(), isdigit()\n",
    "\n",
    "\n",
    "Yukarıdaki `string` metodlarındaki değişimleri görebildiğimiz bir program yazınız.\n"
   ]
  },
  {
   "cell_type": "code",
   "execution_count": 6,
   "metadata": {},
   "outputs": [
    {
     "name": "stdout",
     "output_type": "stream",
     "text": [
      "Abcdef ghjk\n",
      "abcdef ghjk\n",
      "ABCDEF GHJK\n",
      "ABcDEf GHJk\n",
      "Abcdef Ghjk\n",
      "abqdeF ghjK\n"
     ]
    }
   ],
   "source": [
    "# 1 numaraları grup:\n",
    "a = \"abCdeF ghjK\"\n",
    "print(a.capitalize())\n",
    "print(a.lower())\n",
    "print(a.upper())\n",
    "print(a.swapcase())\n",
    "print(a.title())\n",
    "print(a.replace(\"C\",\"q\"))\n"
   ]
  },
  {
   "cell_type": "code",
   "execution_count": 7,
   "metadata": {},
   "outputs": [
    {
     "name": "stdout",
     "output_type": "stream",
     "text": [
      "False\n",
      "True\n",
      "4\n",
      "9\n",
      "1\n"
     ]
    }
   ],
   "source": [
    "# 2 numaraları grup:\n",
    "b = \"abCdeF ghjK\"\n",
    "print(b.endswith(\"k\"))\n",
    "print(b.startswith(\"a\"))\n",
    "print(b.find(\"e\"))\n",
    "print(b.index(\"jK\"))\n",
    "print(b.count(\" \"))"
   ]
  },
  {
   "cell_type": "code",
   "execution_count": 8,
   "metadata": {},
   "outputs": [
    {
     "name": "stdout",
     "output_type": "stream",
     "text": [
      "['abCdeF', 'ghjK']\n",
      "abcdef ghjk\n",
      "True\n",
      "False\n",
      "False\n",
      "True\n"
     ]
    }
   ],
   "source": [
    "# 3 numaralı grup:\n",
    "c = \"     abcdef ghjk     \"\n",
    "d = \"12345678\"\n",
    "\n",
    "print(b.split(\" \"))\n",
    "print(c.strip())\n",
    "print(c.islower())\n",
    "print(c.isupper())\n",
    "print(c.isalpha())\n",
    "print(d.isdigit())\n",
    "\n"
   ]
  },
  {
   "cell_type": "code",
   "execution_count": 9,
   "metadata": {},
   "outputs": [
    {
     "name": "stdout",
     "output_type": "stream",
     "text": [
      "a b c d a#b#c#d\n"
     ]
    }
   ],
   "source": [
    "liste = [\"a\", \"b\", \"c\", \"d\"]\n",
    "x = \" \".join(liste)\n",
    "y = \"#\".join(liste)\n",
    "print(x,y)"
   ]
  }
 ],
 "metadata": {
  "kernelspec": {
   "display_name": "Python 3.10.5 64-bit",
   "language": "python",
   "name": "python3"
  },
  "language_info": {
   "codemirror_mode": {
    "name": "ipython",
    "version": 3
   },
   "file_extension": ".py",
   "mimetype": "text/x-python",
   "name": "python",
   "nbconvert_exporter": "python",
   "pygments_lexer": "ipython3",
   "version": "3.12.3"
  },
  "orig_nbformat": 4,
  "vscode": {
   "interpreter": {
    "hash": "5026d2d6e7aaaaba093def813beadff083d8733e4a511af01735cbabd156995d"
   }
  }
 },
 "nbformat": 4,
 "nbformat_minor": 2
}
