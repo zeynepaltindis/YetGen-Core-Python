{
  "cells": [
    {
      "cell_type": "markdown",
      "metadata": {
        "id": "tsD4YVAe_Te2"
      },
      "source": [
        "# Problem 1\n",
        "Bir sayının 7'ye bölünebilir olup olmadığını kontrol etmek \n",
        "için bir program yazın.\n",
        "\n",
        "İpucu: Mod operatörünü (%) kullanabilirsiniz."
      ]
    },
    {
      "cell_type": "code",
      "execution_count": 5,
      "metadata": {
        "id": "NGjvNwKx_Te7"
      },
      "outputs": [
        {
          "name": "stdout",
          "output_type": "stream",
          "text": [
            "1234567890 7'ye tam bölünmeyen bir sayıdır.\n"
          ]
        }
      ],
      "source": [
        "num1 = int(input(\"Bir sayı giriniz: \"))\n",
        "\n",
        "if num1 % 7 == 0:\n",
        "    print(f\"{num1} 7'ye tam bölünebilir bir sayıdır.\")\n",
        "else:\n",
        "    print(f\"{num1} 7'ye tam bölünmeyen bir sayıdır.\")"
      ]
    },
    {
      "cell_type": "markdown",
      "metadata": {
        "id": "Kg3qiBAI_Te8"
      },
      "source": [
        "# Problem 2\n",
        "Kullanıcıdan vize ve final notu isteyin. Girilen vize notunun %40’ı ve \n",
        "girilen finalnotunun ise %60’ı alınarak yıl sonu not ortalaması hesaplanacaktır. \n",
        "\n",
        "Bu not ortalaması eğer 85 ve üzeri ise AA, \n",
        "\n",
        "75 ve 85 arasında ise BA, \n",
        "\n",
        "70 ve 75 arasında ise BB, \n",
        "\n",
        "65 ve 70 arasında ise CB,\n",
        "\n",
        "60 ve 65 arasında ise CC,\n",
        "\n",
        "55 ve 60 arasında ise DC,\n",
        "\n",
        "50 ve 55 arasında ise DD olarak hesaplanacaktır. \n",
        "\n",
        "Bu öğrencinin yıl sonu toplam notu 50’nin altında ise FF ile dersten kalacaktır. \n",
        "\n",
        "Ayrıca öğrencinin final notu 50’nin altında ise direkt FF ile kalacaktır."
      ]
    },
    {
      "cell_type": "code",
      "execution_count": 12,
      "metadata": {
        "id": "MXTtCxI1_Te8"
      },
      "outputs": [
        {
          "name": "stdout",
          "output_type": "stream",
          "text": [
            "DC\n"
          ]
        }
      ],
      "source": [
        "vize = float(input(\"Vize sınav notu: \"))\n",
        "final = float(input(\"Final sınav notu: \"))\n",
        "notOrtalaması = vize * 0.4 + final * 0.6\n",
        "\n",
        "if final < 50:\n",
        "    print(\"FF\")\n",
        "elif 85 <= notOrtalaması:\n",
        "    print(\"AA\")\n",
        "elif 75 <= notOrtalaması < 85:\n",
        "    print(\"BA\")\n",
        "elif 70 <= notOrtalaması < 75:\n",
        "    print(\"BB\")\n",
        "elif 65 <= notOrtalaması < 70:\n",
        "    print(\"CB\")\n",
        "elif 60 <= notOrtalaması < 65:\n",
        "    print(\"CC\")\n",
        "elif 55 <= notOrtalaması < 60:\n",
        "    print(\"DC\")\n",
        "elif 50 <= notOrtalaması < 55:\n",
        "    print(\"DD\")\n",
        "else:\n",
        "    print(\"FF\")"
      ]
    },
    {
      "cell_type": "markdown",
      "metadata": {
        "id": "tAoRYCTC_Te8"
      },
      "source": [
        "# Problem 3\n",
        "İki YetGenli Zirve'de karşılaşıyorlar. Birbirlerini tanımak için sorular soruyorlar. Birbirlerine yaşlarını soruyorlar. Akıllarına bir Python programı yazıp, yaşlarını ve isimlerini giriyorlar. Büyük olanın yaşını ekrana yazdıran programı yazıyorlar. Sende bu iki YetGenli'ye destek olmak ister misin?\n",
        "\n",
        "```\n",
        "Birinci YetGenlinin ismi: Ahmet\n",
        "Birinci YetGenlinin yaşı : 20\n",
        "İkinci YetGenlinin ismi: Mehmet\n",
        "İkinci YetGenlinin yaşı : 25\n",
        "Mehmet'in yaşı daha büyük ve yaşı 25'tir.\n",
        "```"
      ]
    },
    {
      "cell_type": "code",
      "execution_count": 9,
      "metadata": {
        "id": "bPjE8W0i_Te8"
      },
      "outputs": [
        {
          "name": "stdout",
          "output_type": "stream",
          "text": [
            "Zeynep ve Dilara yaşıtlar.\n"
          ]
        }
      ],
      "source": [
        "person1 = str(input(\"Birinci kişinin adını giriniz: \"))\n",
        "person1age = int(input(\"Birinci kişinin yaşını giriniz: \"))\n",
        "person2 = str(input(\"İkinci kişinin adını giriniz: \"))\n",
        "person2age = int(input(\"İkinci kişinin yaşını giriniz: \"))\n",
        "\n",
        "if person1age > person2age:\n",
        "    print(f\"{person1}, {person2}'dan büyük.\")\n",
        "elif person1age == person2age:\n",
        "    print(f\"{person1} ve {person2} yaşıtlar.\")\n",
        "else:\n",
        "    print(f\"{person2}, {person1}'dan büyük.\")\n"
      ]
    },
    {
      "cell_type": "markdown",
      "metadata": {
        "id": "zBVv8Tyg_Te9"
      },
      "source": [
        "# Problem 4\n",
        "Pandemi döneminde AVM'lerde ateş ölçümü yapılıyor. AVM'ye giren kişinin ateş ölçümü 37.5 derecenin altında ise girişe izin veriliyor. 37.5 derecenin üstünde ise girişe izin verilmiyor. AVM'ye girişe izin verilip verilmediğini ekrana yazdıran bir program yazın.\n",
        "\n",
        "Program sonunda şöyle bir çıktı elde etmelisiniz:\n",
        "\n",
        "```\n",
        "Ateşiniz 37.5 derece. AVM'ye girebilirsin! Maske takmayı unutma!\n",
        "Ateşiniz 37.6 derece. AVM'ye giremezsin! Hemen evine dön!\n",
        "```"
      ]
    },
    {
      "cell_type": "code",
      "execution_count": 12,
      "metadata": {
        "id": "TSAXs8et_Te9"
      },
      "outputs": [
        {
          "name": "stdout",
          "output_type": "stream",
          "text": [
            "Ateşiniz 36.8 derece. AVM'ye girebilirsin! Maske takmayı unutma!\n"
          ]
        }
      ],
      "source": [
        "fever = float(input())\n",
        "\n",
        "if fever >= 37.5:\n",
        "    print(f\"Ateşiniz {fever} derece. AVM'ye giremezsin! Hemen evine dön!\")\n",
        "else:\n",
        "    print(f\"Ateşiniz {fever} derece. AVM'ye girebilirsin! Maske takmayı unutma!\")\n"
      ]
    },
    {
      "cell_type": "markdown",
      "metadata": {
        "id": "6AEkZrDt_Te9"
      },
      "source": [
        "# Problem 5\n",
        "YetGen bir spor kulübüyle sponsorluk anlaşması yapıyor. Kulüp, sponsorluk anlaşmasına göre her YetGen liderinin beden kitle indeksini hesaplamak istiyor. Spor kulübü, beden kitle indeksini hesaplamak için YetGen Jump Python liderlerinden Berkcan ve Ahmet'i arıyor. Berkcan ve Ahmet, kulübe yardımcı olmak için bir Python programı yazıyorlar. Sende bu iki YetGen liderine destek olmak ister misin?\n",
        "\n",
        "Kullanıcıdan alınan boy ve kilo değerlerine göre beden kitle indeksini hesaplayın ve şu kurallara göre ekrana şu yazıları yazdırın.\n",
        "\n",
        "\n",
        "Beden Kitle İndeksi, kişinin ağırlığının (kg olarak) boyunun karesine (m olarak) bölünmesiyle hesaplanır.\n",
        "\n",
        "\n",
        "```\n",
        " BKİ 18.5'un altındaysa -------> Zayıf\n",
        "\n",
        " BKİ 18.5 ile 25 arasındaysa ------> Normal\n",
        "\n",
        " BKİ 25 ile 30 arasındaysa --------> Fazla Kilolu\n",
        "\n",
        " BKİ 30'un üstündeyse -------------> Obez\n",
        "```\n",
        "\n"
      ]
    },
    {
      "cell_type": "code",
      "execution_count": 8,
      "metadata": {
        "id": "t-XPI_u0_Te-"
      },
      "outputs": [
        {
          "name": "stdout",
          "output_type": "stream",
          "text": [
            "42.96874999999999\n",
            "Obez\n"
          ]
        }
      ],
      "source": [
        "weight = float(input(\"Kilonuzu girin: \"))\n",
        "height = float(input(\"Boyunuzu metre cinsinden girin: \"))\n",
        "bodyMassIndex = weight / (height ** 2)\n",
        "\n",
        "print(bodyMassIndex)\n",
        "if bodyMassIndex < 18.5:\n",
        "    print(\"Zayıf\")\n",
        "elif 18.5 <= bodyMassIndex < 25:\n",
        "    print(\"Normal\")\n",
        "elif 25 <= bodyMassIndex < 30:\n",
        "    print(\"Fazla kilolu\")\n",
        "elif 30 <= bodyMassIndex:\n",
        "    print(\"Obez\")"
      ]
    },
    {
      "cell_type": "markdown",
      "metadata": {
        "id": "oFsvQyaO_Te-"
      },
      "source": [
        "# Problem 6\n",
        "Kullanıcıdan isim, yaş ve eğitim bilgilerini isteyip ehliyet alabilme  durumunu kontrol ediniz. \n",
        "\n",
        "Ehliyet alma koşulu en az 18 yaşında ve eğitim durumu lise ya da üniversite olmalıdır. "
      ]
    },
    {
      "cell_type": "code",
      "execution_count": 21,
      "metadata": {
        "id": "Tu2mcgco_Te-"
      },
      "outputs": [
        {
          "name": "stdout",
          "output_type": "stream",
          "text": [
            "Merhaba Kaan! Girdiğin bilgilere göre ehliyet alabilirsin.\n"
          ]
        }
      ],
      "source": [
        "name = str(input(\"Adınız: \"))\n",
        "age = int(input(\"Yaşınız: \"))\n",
        "study = str(input(\"Eğitim bilginiz: \"))\n",
        "\n",
        "if age >= 18 and (study == \"üniversite\" or \"lise\"):\n",
        "    print(f\"Merhaba {name}! Girdiğin bilgilere göre ehliyet alabilirsin.\")\n",
        "else:\n",
        "    print(f\"Merhaba {name}! Girdiğin bilgilere göre henüz ehliyet alamazsın.\")"
      ]
    },
    {
      "cell_type": "markdown",
      "metadata": {
        "id": "eUkxVSAE_Te_"
      },
      "source": [
        "# Problem 7\n",
        "Bir yılın artık yıl olup olmadığını kontrol etmek için bir program yazın. \n",
        "Artık yıl kuralı:\n",
        "\n",
        "a) Eğer yılın son iki basamağı (00) ile bitmiyor ve yalnızca 4'e tam bölünüyorsa artık yıldır. Ya da, \n",
        "\n",
        "b) Eğer yıl 400'e tam bölünüyorsa artık yıldır.\n",
        "\n",
        "**Örneğin**\n",
        "```\n",
        "2017 artık yıl değildir.\n",
        "1900 artık yıl değildir\n",
        "2012 artık yıldır.\n",
        "2000 artık yıldır.\n",
        "```"
      ]
    },
    {
      "cell_type": "code",
      "execution_count": 7,
      "metadata": {
        "id": "4uWh8qUL_Te_"
      },
      "outputs": [
        {
          "name": "stdout",
          "output_type": "stream",
          "text": [
            "2000 artık yıldır.\n"
          ]
        }
      ],
      "source": [
        "year = int(input(\"Bir sene giriniz: \"))\n",
        "\n",
        "\n",
        "if year % 400 == 0:\n",
        "    print(f\"{year} artık yıldır.\")\n",
        "elif year % 100 == 0:\n",
        "    print(f\"{year} artık yıl değildir.\")\n",
        "elif year & 4 == 0:\n",
        "    print(f\"{year} artık yıldır.\")\n",
        "else:\n",
        "    print(f\"{year} artık yıl değildir.\")"
      ]
    }
  ],
  "metadata": {
    "colab": {
      "provenance": []
    },
    "kernelspec": {
      "display_name": "Python 3.10.5 64-bit",
      "language": "python",
      "name": "python3"
    },
    "language_info": {
      "codemirror_mode": {
        "name": "ipython",
        "version": 3
      },
      "file_extension": ".py",
      "mimetype": "text/x-python",
      "name": "python",
      "nbconvert_exporter": "python",
      "pygments_lexer": "ipython3",
      "version": "3.12.3"
    },
    "orig_nbformat": 4,
    "vscode": {
      "interpreter": {
        "hash": "5026d2d6e7aaaaba093def813beadff083d8733e4a511af01735cbabd156995d"
      }
    }
  },
  "nbformat": 4,
  "nbformat_minor": 0
}
