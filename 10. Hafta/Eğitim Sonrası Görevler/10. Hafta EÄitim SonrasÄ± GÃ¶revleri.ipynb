{
 "cells": [
  {
   "attachments": {},
   "cell_type": "markdown",
   "metadata": {},
   "source": [
    "# Problem 1 "
   ]
  },
  {
   "cell_type": "code",
   "execution_count": 1,
   "metadata": {},
   "outputs": [
    {
     "name": "stdout",
     "output_type": "stream",
     "text": [
      "Oluşturulan array: [12  7  3 18 10]\n",
      "Sıralanmış array: [ 3  7 10 12 18]\n"
     ]
    }
   ],
   "source": [
    "# 1 - numpy kütüphanesini import edin\n",
    "import numpy as np\n",
    "\n",
    "# 2 - 5 elemanlı bir numpy array oluşturun\n",
    "array = np.array([12, 7, 3, 18, 10])\n",
    "print(\"Oluşturulan array:\", array)\n",
    "\n",
    "\n",
    "# 3 - Oluşturduğunuz arrayi küçükten büyüğe sıralayın.\n",
    "sortedArray = np.sort(array)\n",
    "print(\"Sıralanmış array:\", sortedArray)\n",
    "\n"
   ]
  },
  {
   "attachments": {},
   "cell_type": "markdown",
   "metadata": {},
   "source": [
    "# Problem 2"
   ]
  },
  {
   "cell_type": "code",
   "execution_count": 5,
   "metadata": {},
   "outputs": [
    {
     "name": "stdout",
     "output_type": "stream",
     "text": [
      "[10 15 30 45 60]\n",
      "[ 5  6  7  8  9 10 11 12 13 14 15]\n",
      "[ 50  55  60  65  70  75  80  85  90  95 100]\n",
      "[0. 0. 0. 0. 0. 0. 0. 0. 0. 0.]\n",
      "[1. 1. 1. 1. 1. 1. 1. 1. 1. 1.]\n",
      "[  0.  25.  50.  75. 100.]\n",
      "[17 10 21 25 12]\n",
      "[-1.         -0.77777778 -0.55555556 -0.33333333 -0.11111111  0.11111111\n",
      "  0.33333333  0.55555556  0.77777778  1.        ]\n",
      "Matris:\n",
      " [[46 36 42 43 36]\n",
      " [45 19 38 35 41]\n",
      " [48 11 31 44 28]]\n",
      "Satır toplamı: [203 178 162]\n",
      "Sütun toplamı: [139  66 111 122 105]\n",
      "En büyük değer: 11\n",
      "En küçük değer: 48\n",
      "Ortalama: 36.2\n",
      "En büyük değerin indeksi: (np.int64(2), np.int64(0))\n",
      "İlk 3 eleman: [10 11 12]\n",
      "[20 19 18 17 16 15 14 13 12 11 10]\n",
      "[46 36 42 43 36]\n",
      "2. satır 3. sütundaki eleman: 38\n",
      "Tüm satırların ilk elemanları: [46 45 48]\n",
      "Matrisin her bir elemanının karesi:\n",
      " [[2116 1296 1764 1849 1296]\n",
      " [2025  361 1444 1225 1681]\n",
      " [2304  121  961 1936  784]]\n",
      "Matris:\n",
      " [[-19  13  28  47  29]\n",
      " [ 34   4 -33 -43 -38]\n",
      " [ 38  11 -46  16  11]]\n",
      "Pozitif çift sayılar: [28 34  4 38 16]\n"
     ]
    }
   ],
   "source": [
    "# 1- (10,15,30,45,60) değerlerine sahip numpy dizisi oluşturunuz.\n",
    "dizi1 = np.array([10, 15, 30, 45, 60])\n",
    "print(dizi1)\n",
    "\n",
    "# 2- (5-15) arasındaki sayılarla numpy dizisi oluşturunuz.\n",
    "dizi2 = np.arange(5, 16)\n",
    "print(dizi2)\n",
    "\n",
    "# 3- (50-100) arasında 5'er 5'er artarak numpy dizisi oluşturunuz.\n",
    "dizi3 = np.arange(50, 101, 5)\n",
    "print(dizi3)\n",
    "\n",
    "# 4- 10 elemanlı sıfırlardan oluşan bir dizi oluşturunuz.\n",
    "dizi4 = np.zeros(10)\n",
    "print(dizi4)\n",
    "\n",
    "# 5- 10 elemanlı birlerden oluşan bir dizi oluşturunuz.\n",
    "dizi5 = np.ones(10)\n",
    "print(dizi5)\n",
    "\n",
    "# 6- (0-100) arasında eşit aralıklı 5 sayı üretin.\n",
    "dizi6 = np.linspace(0, 100, 5)\n",
    "print(dizi6)\n",
    "\n",
    "# 7- (10-30) arasında rastgele 5 tane tamsayı üretin.\n",
    "dizi7 = np.random.randint(10, 31, 5)\n",
    "print(dizi7)\n",
    "\n",
    "# 8- [-1 ile 1] arasında 10 adet sayı üretin.\n",
    "dizi8 = np.linspace(-1, 1, 10)\n",
    "print(dizi8)\n",
    "\n",
    "# 9- (3x5) boyutlarında (10-50) arasında rastgele bir matris oluşturunuz.\n",
    "matris = np.random.randint(10, 51, size=(3, 5))\n",
    "print(f\"Matris:\\n {matris}\")\n",
    "\n",
    "# 10- Üretilen matrisin satır ve sütun sayıları toplamlarını hesaplayınız ?\n",
    "satirToplam = np.sum(matris, axis=1)\n",
    "sutunToplam = np.sum(matris, axis=0)\n",
    "print(f\"Satır toplamı: {satirToplam}\")\n",
    "print(f\"Sütun toplamı: {sutunToplam}\")\n",
    "\n",
    "# 11- Üretilen matrisin en büyük, en küçük ve ortalaması nedir ?\n",
    "min = np.max(matris)\n",
    "max = np.min(matris)\n",
    "average = np.mean(matris)\n",
    "print(f\"En büyük değer: {max}\")\n",
    "print(f\"En küçük değer: {min}\")\n",
    "print(f\"Ortalama: {average}\")\n",
    "\n",
    "# 12- Üretilen matrisin en büyük değerinin indeksi kaçtır ?\n",
    "maxIndeks = np.unravel_index(np.argmax(matris), matris.shape)\n",
    "print(f\"En büyük değerin indeksi: {maxIndeks}\")\n",
    "\n",
    "# 13- (10-20) arasındaki sayıları içeren dizinin ilk 3 elemanını seçiniz.\n",
    "dizi9 = np.arange(10, 21)\n",
    "firstThree = dizi9[:3]\n",
    "print(f\"İlk 3 eleman: {firstThree}\")\n",
    "\n",
    "# 14- Üretilen dizinin elemanlarını tersten yazdırın.\n",
    "tersDizi = dizi9[::-1]\n",
    "print(tersDizi)\n",
    "\n",
    "# 15- Üretilen matrisin ilk satırını seçiniz.\n",
    "ilkSatir = matris[0, :]\n",
    "print(ilkSatir)\n",
    "\n",
    "# 16- Üretilen matrisin 2.satır 3.sütundaki elemanı hangisidir ?\n",
    "eleman = matris[1, 2]\n",
    "print(f\"2. satır 3. sütundaki eleman: {eleman}\")\n",
    "\n",
    "# 17- Üretilen matrisin tüm satırlardaki ilk elemanı seçiniz.\n",
    "ilkSutunElemanlari = matris[:, 0]\n",
    "print(f\"Tüm satırların ilk elemanları: {ilkSutunElemanlari}\")\n",
    "\n",
    "# 18- Üretilen matrisin her bir elemanının karesini alınız.\n",
    "matrisSquare = np.square(matris)\n",
    "print(f\"Matrisin her bir elemanının karesi:\\n {matrisSquare}\")\n",
    "\n",
    "# 19- Üretilen matris elemanlarının hangisi pozitif çift sayıdır ? Aralığı (-50,+50) arasında yapınız.\n",
    "matrisRange = np.random.randint(-50, 51, size=(3, 5))\n",
    "posEvenNum = matrisRange[(matrisRange > 0) & (matrisRange % 2 == 0)]\n",
    "print(f\"Matris:\\n {matrisRange}\" )\n",
    "print(f\"Pozitif çift sayılar: {posEvenNum}\")\n"
   ]
  }
 ],
 "metadata": {
  "kernelspec": {
   "display_name": "Python 3",
   "language": "python",
   "name": "python3"
  },
  "language_info": {
   "codemirror_mode": {
    "name": "ipython",
    "version": 3
   },
   "file_extension": ".py",
   "mimetype": "text/x-python",
   "name": "python",
   "nbconvert_exporter": "python",
   "pygments_lexer": "ipython3",
   "version": "3.12.3"
  },
  "orig_nbformat": 4,
  "vscode": {
   "interpreter": {
    "hash": "5026d2d6e7aaaaba093def813beadff083d8733e4a511af01735cbabd156995d"
   }
  }
 },
 "nbformat": 4,
 "nbformat_minor": 2
}
