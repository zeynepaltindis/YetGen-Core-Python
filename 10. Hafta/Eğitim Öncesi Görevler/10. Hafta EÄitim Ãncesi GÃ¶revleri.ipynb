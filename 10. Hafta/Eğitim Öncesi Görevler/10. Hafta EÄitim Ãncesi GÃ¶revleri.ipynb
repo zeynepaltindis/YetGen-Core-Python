{
 "cells": [
  {
   "attachments": {},
   "cell_type": "markdown",
   "metadata": {},
   "source": [
    "# Problem 1"
   ]
  },
  {
   "cell_type": "code",
   "execution_count": 3,
   "metadata": {},
   "outputs": [
    {
     "name": "stdout",
     "output_type": "stream",
     "text": [
      "Matris: [[8 2 5 5 7]]\n",
      "Matris boyutu: (1, 5)\n",
      "Yeniden boyutlandırılmış matris: [[8]\n",
      " [2]\n",
      " [5]\n",
      " [5]\n",
      " [7]]\n",
      "Matris boyut sayısı: 2\n"
     ]
    }
   ],
   "source": [
    "# 1 - numpy kütüphanesini import edin\n",
    "import numpy as np\n",
    "\n",
    "# 2 - 0 ile 10 arasında 5 sayıdan oluşan matris üretin\n",
    "matris = np.random.randint(0, 11, size=(1, 5))\n",
    "print(\"Matris:\", matris)\n",
    "\n",
    "# 3 - matris'in boyutunu öğrenin\n",
    "boyut = matris.shape\n",
    "print(\"Matris boyutu:\", boyut)\n",
    "\n",
    "# 4 - matris'i yeniden boyutlandırın\n",
    "yeniden_boyutlandirilmis_matris = matris.reshape(5, 1)\n",
    "print(\"Yeniden boyutlandırılmış matris:\", yeniden_boyutlandirilmis_matris)\n",
    "\n",
    "# 5 - matris'in boyut sayısını öğrenin\n",
    "boyut_sayisi = yeniden_boyutlandirilmis_matris.ndim\n",
    "print(\"Matris boyut sayısı:\", boyut_sayisi)\n"
   ]
  },
  {
   "attachments": {},
   "cell_type": "markdown",
   "metadata": {},
   "source": [
    "# Problem 2"
   ]
  },
  {
   "cell_type": "code",
   "execution_count": 6,
   "metadata": {},
   "outputs": [
    {
     "name": "stdout",
     "output_type": "stream",
     "text": [
      "Matris: [[7 7 7 7 3 1]]\n",
      "Parça 1: [[7 7 7]]\n",
      "Parça 2: [[7 3 1]]\n",
      "Birleştirilmiş Matris: [[7 7 7 7 3 1]]\n"
     ]
    }
   ],
   "source": [
    "# 1 - 0 ile 10 arasında bulunan tek sayılardan oluşan matris üretin\n",
    "oddNum = np.arange(1, 11, 2)\n",
    "matris = np.random.choice(oddNum, size=(1, 6))\n",
    "print(\"Matris:\", matris)\n",
    "\n",
    "\n",
    "# 2 - Oluşturduğunuz matrisi parçalayın\n",
    "parca1, parca2 = np.split(matris, 2, axis=1)\n",
    "print(\"Parça 1:\", parca1)\n",
    "print(\"Parça 2:\", parca2)\n",
    "\n",
    "\n",
    "# 3 - Parçalanmış matrisleri birleştirin\n",
    "birlestirilmis = np.concatenate((parca1, parca2), axis=1)\n",
    "print(\"Birleştirilmiş Matris:\", birlestirilmis)\n",
    "\n"
   ]
  },
  {
   "attachments": {},
   "cell_type": "markdown",
   "metadata": {},
   "source": [
    "# Problem 3"
   ]
  },
  {
   "cell_type": "code",
   "execution_count": 8,
   "metadata": {},
   "outputs": [
    {
     "name": "stdout",
     "output_type": "stream",
     "text": [
      "Matris: [[95 25 77 41 13 37 11 45 53 63]]\n",
      "Matris boyutu: (1, 10)\n",
      "Matris eleman sayısı: 10\n",
      "Matris boyut sayısı: 2\n",
      "Matris veri tipi: int64\n",
      "Matris elemanları:\n",
      "[[95 25 77 41 13 37 11 45 53 63]]\n"
     ]
    }
   ],
   "source": [
    "# 1 - 5 ile 100 arasında ikişer ikişer atlayarak rastgele 10 sayıdan oluşan matris üretin\n",
    "rangeee = np.arange(5, 101, 2)\n",
    "matris = np.random.choice(rangeee, size=(1, 10), replace=False)\n",
    "print(\"Matris:\", matris)\n",
    "\n",
    "\n",
    "# 2 - matris'in özelliklerini inceleyin\n",
    "print(\"Matris boyutu:\", matris.shape)\n",
    "print(\"Matris eleman sayısı:\", matris.size)\n",
    "print(\"Matris boyut sayısı:\", matris.ndim)\n",
    "print(\"Matris veri tipi:\", matris.dtype)\n",
    "print(\"Matris elemanları:\")\n",
    "print(matris)\n",
    "\n",
    "\n"
   ]
  }
 ],
 "metadata": {
  "kernelspec": {
   "display_name": "Python 3",
   "language": "python",
   "name": "python3"
  },
  "language_info": {
   "codemirror_mode": {
    "name": "ipython",
    "version": 3
   },
   "file_extension": ".py",
   "mimetype": "text/x-python",
   "name": "python",
   "nbconvert_exporter": "python",
   "pygments_lexer": "ipython3",
   "version": "3.12.3"
  },
  "orig_nbformat": 4,
  "vscode": {
   "interpreter": {
    "hash": "5026d2d6e7aaaaba093def813beadff083d8733e4a511af01735cbabd156995d"
   }
  }
 },
 "nbformat": 4,
 "nbformat_minor": 2
}
